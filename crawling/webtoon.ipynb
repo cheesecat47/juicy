{
 "cells": [
  {
   "cell_type": "code",
   "execution_count": 12,
   "metadata": {},
   "outputs": [
    {
     "name": "stdout",
     "output_type": "stream",
     "text": [
      "\"/webtoon/list.nhn?titleId=183559&weekday=mon\",\"https://shared-comic.pstatic.net/thumb/webtoon/183559/thumbnail/title_thumbnail_20160516123017_t83x90.jpg\",\"신의 탑\",\n",
      "\"/webtoon/list.nhn?titleId=648419&weekday=mon\",\"https://shared-comic.pstatic.net/thumb/webtoon/648419/thumbnail/thumbnail_IMAG10_1421195d-13be-4cde-bcf9-0c78d51c5ea3.jpg\",\"뷰티풀 군바리\",\n",
      "\"/webtoon/list.nhn?titleId=602910&weekday=mon\",\"https://shared-comic.pstatic.net/thumb/webtoon/602910/thumbnail/thumbnail_IMAG10_ec235b6e-c4fa-47ab-8141-36c4f1572a79.jpg\",\"윈드브레이커\",\n",
      "\"/webtoon/list.nhn?titleId=654774&weekday=mon\",\"https://shared-comic.pstatic.net/thumb/webtoon/654774/thumbnail/thumbnail_IMAG10_b85f5350-ca68-4300-ab15-036d9ee060c8.jpg\",\"소녀의 세계\",\n",
      "\"/webtoon/list.nhn?titleId=679519&weekday=mon\",\"https://shared-comic.pstatic.net/thumb/webtoon/679519/thumbnail/title_thumbnail_20160601180804_t83x90.jpg\",\"대학일기\",\n",
      "\"/webtoon/list.nhn?titleId=597478&weekday=mon\",\"https://shared-comic.pstatic.net/thumb/webtoon/597478/thumbnail/thumbnail_IMAG10_487d19d8-3547-43a0-aa94-10ef7fc94cda.jpg\",\"평범한 8반\",\n",
      "\"/webtoon/list.nhn?titleId=702422&weekday=mon\",\"https://shared-comic.pstatic.net/thumb/webtoon/702422/thumbnail/thumbnail_IMAG10_8a7d3a98-291e-4fec-b399-7b8219c90854.jpg\",\"니편내편\",\n",
      "\"/webtoon/list.nhn?titleId=713975&weekday=mon\",\"https://shared-comic.pstatic.net/thumb/webtoon/713975/thumbnail/thumbnail_IMAG10_2c34bc9e-747c-4257-bf48-a67a560dca0a.jpg\",\"데드라이프\",\n",
      "\"/webtoon/list.nhn?titleId=714886&weekday=mon\",\"https://shared-comic.pstatic.net/thumb/webtoon/714886/thumbnail/thumbnail_IMAG10_dbf1c5f4-08ec-47f6-bd6d-ab6304d907de.jpg\",\"신을 죽이는 방법\",\n",
      "\"/webtoon/list.nhn?titleId=675554&weekday=mon\",\"https://shared-comic.pstatic.net/thumb/webtoon/675554/thumbnail/thumbnail_IMAG10_66613407-1041-4f4f-ad8a-1983361f932e.jpg\",\"가우스전자 시즌3~4\",\n",
      "\"/webtoon/list.nhn?titleId=714185&weekday=mon\",\"https://shared-comic.pstatic.net/thumb/webtoon/714185/thumbnail/thumbnail_IMAG10_b09f7c2d-7083-467b-95bc-4dace9c21b6f.jpg\",\"링크보이\",\n",
      "\"/webtoon/list.nhn?titleId=716857&weekday=mon\",\"https://shared-comic.pstatic.net/thumb/webtoon/716857/thumbnail/thumbnail_IMAG10_cf1f325d-f0de-452d-a996-7e95cee200f4.jpg\",\"오늘의 순정망화\",\n",
      "\"/webtoon/list.nhn?titleId=698888&weekday=mon\",\"https://shared-comic.pstatic.net/thumb/webtoon/698888/thumbnail/thumbnail_IMAG10_f15db563-bed6-416e-8163-e2efe5055023.jpg\",\"이것도 친구라고\",\n",
      "\"/webtoon/list.nhn?titleId=713581&weekday=mon\",\"https://shared-comic.pstatic.net/thumb/webtoon/713581/thumbnail/thumbnail_IMAG10_fce3c3c1-2356-4916-aba2-0f561f579c1c.jpg\",\"내 여자친구는 상남자\",\n",
      "\"/webtoon/list.nhn?titleId=694807&weekday=mon\",\"https://shared-comic.pstatic.net/thumb/webtoon/694807/thumbnail/thumbnail_IMAG10_49a1f978-53e4-4f40-8d66-42ee26d14cfc.jpg\",\"마왕이 되는 중2야\",\n",
      "\"/webtoon/list.nhn?titleId=713334&weekday=mon\",\"https://shared-comic.pstatic.net/thumb/webtoon/713334/thumbnail/thumbnail_IMAG10_02945840-0ecf-413e-bdc3-e80e74e31f6c.jpg\",\"이름을 불러주세요\",\n",
      "\"/webtoon/list.nhn?titleId=668723&weekday=mon\",\"https://shared-comic.pstatic.net/thumb/webtoon/668723/thumbnail/thumbnail_IMAG10_7d4eefd4-c96e-4e85-acdb-c65dac816c46.jpg\",\"이상하고 아름다운\",\n",
      "\"/webtoon/list.nhn?titleId=709731&weekday=mon\",\"https://shared-comic.pstatic.net/thumb/webtoon/709731/thumbnail/thumbnail_IMAG10_ed364623-7f67-49a0-bc8f-e8d894fe2c81.jpg\",\"유일무이 로맨스\",\n",
      "\"/webtoon/list.nhn?titleId=710741&weekday=mon\",\"https://shared-comic.pstatic.net/thumb/webtoon/710741/thumbnail/thumbnail_IMAG10_c0dd56d6-d08a-4552-91f2-3be36b397349.jpg\",\"부로콜리왕자\",\n",
      "\"/webtoon/list.nhn?titleId=21815&weekday=mon\",\"https://shared-comic.pstatic.net/thumb/webtoon/21815/thumbnail/thumbnail_title_21815_83x90.gif\",\"히어로메이커\",\n",
      "\"/webtoon/list.nhn?titleId=710756&weekday=mon\",\"https://shared-comic.pstatic.net/thumb/webtoon/710756/thumbnail/thumbnail_IMAG10_af763a48-1b08-495e-b16a-a666ca931e38.jpg\",\"일진에게 회초리\",\n",
      "\"/webtoon/list.nhn?titleId=710752&weekday=mon\",\"https://shared-comic.pstatic.net/thumb/webtoon/710752/thumbnail/thumbnail_IMAG10_42d92808-f5e6-4f2d-a33b-9c8b56cc7b25.jpg\",\"혈투\",\n",
      "\"/webtoon/list.nhn?titleId=706590&weekday=mon\",\"https://shared-comic.pstatic.net/thumb/webtoon/706590/thumbnail/thumbnail_IMAG10_f9ce8f3e-0dd3-4979-a9de-7a01f8f3ce49.jpg\",\"피플\",\n",
      "\"/webtoon/list.nhn?titleId=700858&weekday=mon\",\"https://shared-comic.pstatic.net/thumb/webtoon/700858/thumbnail/thumbnail_IMAG10_a01d69ed-7018-4f26-8c9e-e081b66037eb.jpg\",\"닥터 하운드\",\n",
      "\"/webtoon/list.nhn?titleId=687915&weekday=mon\",\"https://shared-comic.pstatic.net/thumb/webtoon/687915/thumbnail/thumbnail_IMAG10_e03acc4a-a1ce-4ebc-a021-e3cc07af5f20.jpg\",\"꿈의 기업\",\n",
      "\"/webtoon/list.nhn?titleId=679568&weekday=mon\",\"https://shared-comic.pstatic.net/thumb/webtoon/679568/thumbnail/title_thumbnail_20160729221220_t83x90.jpg\",\"마이너스의 손\",\n",
      "\"/webtoon/list.nhn?titleId=703635&weekday=mon\",\"https://shared-comic.pstatic.net/thumb/webtoon/703635/thumbnail/thumbnail_IMAG10_3ff49f08-1841-482b-9514-cfa14880b858.jpg\",\"오직 나의 주인님\",\n",
      "\"/webtoon/list.nhn?titleId=710762&weekday=mon\",\"https://shared-comic.pstatic.net/thumb/webtoon/710762/thumbnail/thumbnail_IMAG10_fb5a947c-767b-4188-9f65-eacdcba55e8f.jpg\",\"반투명인간\",\n",
      "\"/webtoon/list.nhn?titleId=711899&weekday=mon\",\"https://shared-comic.pstatic.net/thumb/webtoon/711899/thumbnail/thumbnail_IMAG10_c071339d-044d-43dc-9232-b3625a35d733.jpg\",\"와장창창! 자취맨\",\n",
      "\"/webtoon/list.nhn?titleId=703838&weekday=mon\",\"https://shared-comic.pstatic.net/thumb/webtoon/703838/thumbnail/thumbnail_IMAG10_e473ae37-18af-44f6-83ee-a0d63e153cdb.jpg\",\"홍차리브레\",\n",
      "\"/webtoon/list.nhn?titleId=703629&weekday=mon\",\"https://shared-comic.pstatic.net/thumb/webtoon/703629/thumbnail/thumbnail_IMAG10_e92d5bd9-01a6-462a-9bd8-6b8e697875ea.jpg\",\"열대어\",\n",
      "\"/webtoon/list.nhn?titleId=698247&weekday=mon\",\"https://shared-comic.pstatic.net/thumb/webtoon/698247/thumbnail/thumbnail_IMAG10_0760e4a0-ccb9-4466-aec3-672fd34db52c.jpg\",\"찬란하지 않아도 괜찮아\",\n"
     ]
    }
   ],
   "source": [
    "from urllib.request import Request, urlopen\n",
    "from bs4 import BeautifulSoup\n",
    "\n",
    "req = Request('https://comic.naver.com/webtoon/weekday.nhn')\n",
    "res = urlopen(req)\n",
    "html = res.read().decode('utf-8')\n",
    "\n",
    "bs = BeautifulSoup(html, 'html.parser')\n",
    "tags = bs.findAll('div', attrs={'class': 'col'})\n",
    "\n",
    "for tag in tags:\n",
    "    tag2 = tag.findAll('div', attrs={'class':'col_inner'} )\n",
    "    for tag3 in tag2:\n",
    "        \n",
    "        if (tag3.find('h4', attrs={'class':'mon'})!= None):\n",
    "            tag4 = tag3.findAll('div', attrs={'class':'thumb'})\n",
    "            for tag5 in tag4:\n",
    "                print('\"'+tag5.find('a').attrs['href']+'\"'+','+'\"'+tag5.find('img').attrs['src']+'\"'+','+'\"'+tag5.find('img').attrs['title']+'\"'+',')\n",
    "                "
   ]
  },
  {
   "cell_type": "code",
   "execution_count": null,
   "metadata": {},
   "outputs": [],
   "source": []
  },
  {
   "cell_type": "code",
   "execution_count": null,
   "metadata": {},
   "outputs": [],
   "source": []
  },
  {
   "cell_type": "code",
   "execution_count": null,
   "metadata": {},
   "outputs": [],
   "source": []
  }
 ],
 "metadata": {
  "kernelspec": {
   "display_name": "Python 3",
   "language": "python",
   "name": "python3"
  },
  "language_info": {
   "codemirror_mode": {
    "name": "ipython",
    "version": 3
   },
   "file_extension": ".py",
   "mimetype": "text/x-python",
   "name": "python",
   "nbconvert_exporter": "python",
   "pygments_lexer": "ipython3",
   "version": "3.7.1"
  }
 },
 "nbformat": 4,
 "nbformat_minor": 2
}
