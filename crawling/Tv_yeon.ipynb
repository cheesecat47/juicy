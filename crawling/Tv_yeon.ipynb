{
 "cells": [
  {
   "cell_type": "code",
   "execution_count": 81,
   "metadata": {},
   "outputs": [
    {
     "name": "stdout",
     "output_type": "stream",
     "text": [
      "\"https://tv.naver.com/v/4666090\",\"https://phinf.pstatic.net/tvcast/20181201_99/fSRHc_1543651005715tVwxB_PNG/T9201812010019.PNG?type=nfc184_104_q90\",\"키 · 센 척 안 해(KEY · One of Those Nigh\"\n",
      "\"https://tv.naver.com/v/4666064\",\"https://phinf.pstatic.net/tvcast/20181201_278/NxmR4_1543650705659hKdI8_JPEG/T9201812010018.jpg?type=nfc184_104_q90\",\"키 · Good Good(KEY · Good Good\"\n",
      "\"https://tv.naver.com/v/4666063\",\"https://phinf.pstatic.net/tvcast/20181201_285/CUN1b_1543650703392mAkkC_JPEG/T9201812010017.jpg?type=nfc184_104_q90\",\"레드벨벳 ·  RBB(Red Velvet · Really Bad\"\n",
      "\"https://tv.naver.com/v/4666030\",\"https://phinf.pstatic.net/tvcast/20181201_27/93OWD_1543650103129VwAPn_JPEG/T9201812010014.jpg?type=nfc184_104_q90\",\"워너원 ·  봄바람(Wanna One · Spring Breez\"\n",
      "\"https://tv.naver.com/v/4665980\",\"https://phinf.pstatic.net/tvcast/20181201_187/3Ky6N_1543649509839Pedgn_PNG/T9201812010013.PNG?type=nfc184_104_q90\",\"워너원·  술래(Wanna One · Hide and Seek)\"\n",
      "\"https://tv.naver.com/v/4665979\",\"https://phinf.pstatic.net/tvcast/20181201_282/adg5D_1543649502283husKE_PNG/T9201812010012.PNG?type=nfc184_104_q90\",\"제니 ·  SOLO(JENNIE · SOLO\"\n",
      "\"https://tv.naver.com/v/4665953\",\"https://phinf.pstatic.net/tvcast/20181201_209/bKXWO_1543649204801lqHvn_PNG/T9201812010011.PNG?type=nfc184_104_q90\",\"송민호 - 아낙네(MINO - FIANCÉ\"\n",
      "\"https://tv.naver.com/v/4665939\",\"https://phinf.pstatic.net/tvcast/20181201_185/2pmxU_15436489308173Icpc_PNG/T9201812010010.PNG?type=nfc184_104_q90\",\"송민호 - 어울려요(MINO - Her\"\n",
      "\"https://tv.naver.com/v/4665938\",\"https://phinf.pstatic.net/tvcast/20181201_77/Nxpw4_15436489031881PksP_PNG/T9201812010009.PNG?type=nfc184_104_q90\",\"뉴이스트 - HELP ME(NU`EST W  - HELP ME)\"\n",
      "\"https://tv.naver.com/v/4665918\",\"https://phinf.pstatic.net/tvcast/20181201_134/shFNG_1543648606602x5H16_PNG/T9201812010008.PNG?type=nfc184_104_q90\",\"이엑스아이디 - 알러뷰(EXID -  I LOVE YOU\"\n",
      "\"https://tv.naver.com/v/4665917\",\"https://phinf.pstatic.net/tvcast/20181201_254/UbDJh_1543648600116wOhOX_PNG/T9201812010007.PNG?type=nfc184_104_q90\",\"마마무 -  Wind Flower(MAMAMOO  - Wind \"\n",
      "\"https://tv.naver.com/v/4665891\",\"https://phinf.pstatic.net/tvcast/20181201_22/9L1CO_1543648305398xvjzS_PNG/T9201812010006.PNG?type=nfc184_104_q90\",\"엔시티 127 -  Simon Says(NCT 127 - Sim\"\n",
      "\"https://tv.naver.com/v/4665851\",\"https://phinf.pstatic.net/tvcast/20181201_120/C9Q9G_1543647701872iw7AS_PNG/T9201812010005.PNG?type=nfc184_104_q90\",\"러블리즈 - 찾아가세요(Lovelyz - Lost N Found\"\n",
      "\"https://tv.naver.com/v/4665856\",\"https://phinf.pstatic.net/tvcast/20181201_164/GXTTt_1543647764734bcAB3_PNG/T9201812010004.PNG?type=nfc184_104_q90\",\"더보이즈 -  No Air(THE BOYZ  -  No Air)\"\n",
      "\"https://tv.naver.com/v/4665831\",\"https://phinf.pstatic.net/tvcast/20181201_272/naI0Q_1543647403058FqMut_PNG/T9201812010003_1.PNG?type=nfc184_104_q90\",\"스트레이 키즈 -  Get(Stray Kids  - Get Co\"\n",
      "\"https://tv.naver.com/v/4665808\",\"https://phinf.pstatic.net/tvcast/20181201_14/QFrPo_1543647102822OxSAF_PNG/T9201812010002.PNG?type=nfc184_104_q90\",\"네이처 -  썸(NATURE  -  Youll Be Mine\"\n",
      "\"https://tv.naver.com/v/4664053\",\"https://phinf.pstatic.net/tvcast/20181201_226/fYOvo_1543626129175iu8oB_JPEG/1543626101541.jpg?type=nfc184_104_q90\",\"[선공개] ※심멎주의※ 열정 가득한 워너원의 '롤리폴리' 댄스♬\"\n",
      "\"https://tv.naver.com/v/4663889\",\"https://phinf.pstatic.net/tvcast/20181201_186/PIRlK_1543622563508tKSoH_JPEG/B120180884_EPI0006_31_B.jpg?type=nfc184_104_q90\",\"★미공개 대방출★ 깨발랄 넘치는 홍보 사진 촬영\"\n",
      "\"https://tv.naver.com/v/4663119\",\"https://phinf.pstatic.net/tvcast/20181201_281/SjEt6_1543599840943ipVt5_JPEG/B120188431_EPI0002_29_B.jpg?type=nfc184_104_q90\",\"의진 ＂감사합니다＂ 그에게 음악 '선물♪'을 보낸 그녀는\"\n",
      "\"https://tv.naver.com/v/4663120\",\"https://phinf.pstatic.net/tvcast/20181201_195/qrGQp_1543599845282XNrEl_JPEG/B120188431_EPI0002_28_B.jpg?type=nfc184_104_q90\",\"세 남자와 데이트한 연수, 누구에게 썸뮤직 보낼까\"\n"
     ]
    }
   ],
   "source": [
    "from urllib.request import Request, urlopen\n",
    "from bs4 import BeautifulSoup\n",
    "\n",
    "req = Request('https://entertain.naver.com/tv')\n",
    "res = urlopen(req)\n",
    "html = res.read().decode('utf-8')\n",
    "\n",
    "bs = BeautifulSoup(html, 'html.parser')\n",
    "tags = bs.findAll('div', attrs={'class':'article_area'})\n",
    "\n",
    "for tag in tags:\n",
    "    print('\"'+tag.find('a').attrs['href']+'\"'+','+'\"'+ tag.find('img').attrs['src']+'\"'+','+'\"'+str(tag.findAll('a')[1]).split('>')[1][:-4]+'\"')\n",
    "    #print(tag.find('img').attrs['src'])\n",
    "    #print(str(tag.findAll('a')[1]).split('>')[1][:-4])\n",
    "    \n",
    "    \n",
    "    #print(str())\n",
    "    #b = tag.find('div', attrs={'class':'img'})\n",
    "    #print(b.find('a').attrs['href'])\n",
    "    #print(b.find('img').attrs['src'])\n",
    "    #b = tag.find('div', attrs={'class':'txt_wrap'})\n",
    "    #print(str(b.find('span', attrs={'class':'txt_dot1'}))[23:-7])\n",
    "    #b = tag.find('div', attrs={'class':'txt_wrap'})\n",
    "    #print(str(b.find('span', attrs={'class':'txt_dot2'}))[37:-7])\n",
    "    #print('\\n\\n\\n')"
   ]
  },
  {
   "cell_type": "code",
   "execution_count": null,
   "metadata": {},
   "outputs": [],
   "source": []
  },
  {
   "cell_type": "code",
   "execution_count": null,
   "metadata": {},
   "outputs": [],
   "source": []
  },
  {
   "cell_type": "code",
   "execution_count": null,
   "metadata": {},
   "outputs": [],
   "source": []
  },
  {
   "cell_type": "code",
   "execution_count": null,
   "metadata": {},
   "outputs": [],
   "source": []
  },
  {
   "cell_type": "code",
   "execution_count": null,
   "metadata": {},
   "outputs": [],
   "source": []
  },
  {
   "cell_type": "code",
   "execution_count": null,
   "metadata": {},
   "outputs": [],
   "source": []
  },
  {
   "cell_type": "code",
   "execution_count": null,
   "metadata": {},
   "outputs": [],
   "source": []
  }
 ],
 "metadata": {
  "kernelspec": {
   "display_name": "Python 3",
   "language": "python",
   "name": "python3"
  },
  "language_info": {
   "codemirror_mode": {
    "name": "ipython",
    "version": 3
   },
   "file_extension": ".py",
   "mimetype": "text/x-python",
   "name": "python",
   "nbconvert_exporter": "python",
   "pygments_lexer": "ipython3",
   "version": "3.7.1"
  }
 },
 "nbformat": 4,
 "nbformat_minor": 2
}
