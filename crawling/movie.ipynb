{
 "cells": [
  {
   "cell_type": "code",
   "execution_count": 37,
   "metadata": {},
   "outputs": [
    {
     "name": "stdout",
     "output_type": "stream",
     "text": [
      "\"movie.naver.com/movie/bi/mi/basic.nhn?code=97612\",\"https://movie-phinf.pstatic.net/20180927_158/1538023433590U7S2w_JPEG/movie_image.jpg?type=m99_141_2\",\"그랜드 부다페스트 호텔\",\n",
      "\"movie.naver.com/movie/bi/mi/basic.nhn?code=154255\",\"https://movie-phinf.pstatic.net/20181029_21/1540774701820gU85o_JPEG/movie_image.jpg?type=m99_141_2\",\"신비한 동물들과 그린델왈드의 범죄\",\n",
      "\"movie.naver.com/movie/bi/mi/basic.nhn?code=156464\",\"https://movie-phinf.pstatic.net/20181031_68/1540952503496fNRsF_JPEG/movie_image.jpg?type=m99_141_2\",\"보헤미안 랩소디\",\n",
      "\"movie.naver.com/movie/bi/mi/basic.nhn?code=71760\",\"https://movie-phinf.pstatic.net/20181019_192/1539926516385x2hHY_JPEG/movie_image.jpg?type=m99_141_2\",\"청설\",\n",
      "\"movie.naver.com/movie/bi/mi/basic.nhn?code=176354\",\"https://movie-phinf.pstatic.net/20181109_286/1541743345207CtoXg_JPEG/movie_image.jpg?type=m99_141_2\",\"번 더 스테이지: 더 무비\",\n",
      "\"movie.naver.com/movie/bi/mi/basic.nhn?code=155356\",\"https://movie-phinf.pstatic.net/20181011_124/15392221324972UPeA_JPEG/movie_image.jpg?type=m99_141_2\",\"미쓰백\",\n",
      "\"movie.naver.com/movie/bi/mi/basic.nhn?code=158626\",\"https://movie-phinf.pstatic.net/20180307_227/15203992433853TIaa_JPEG/movie_image.jpg?type=m99_141_2\",\"셰이프 오브 워터: 사랑의 모양\",\n",
      "\"movie.naver.com/movie/bi/mi/basic.nhn?code=144906\",\"https://movie-phinf.pstatic.net/20181031_264/1540949415228uy0j3_JPEG/movie_image.jpg?type=m99_141_2\",\"베일리 어게인\",\n",
      "\"movie.naver.com/movie/bi/mi/basic.nhn?code=160487\",\"https://movie-phinf.pstatic.net/20181001_87/15383614506431bq1D_JPEG/movie_image.jpg?type=m99_141_2\",\"창궐\",\n",
      "\"movie.naver.com/movie/bi/mi/basic.nhn?code=167638\",\"https://movie-phinf.pstatic.net/20181106_289/1541478936071tmadh_JPEG/movie_image.jpg?type=m99_141_2\",\"완벽한 타인\",\n",
      "\"movie.naver.com/movie/bi/mi/basic.nhn?code=179139\",\"https://movie-phinf.pstatic.net/20181022_106/1540170285123a57tG_JPEG/movie_image.jpg?type=m99_141_2\",\"출국\",\n",
      "\"movie.naver.com/movie/bi/mi/basic.nhn?code=76667\",\"https://movie-phinf.pstatic.net/20111223_289/1324622149942dtKyL_JPEG/movie_image.jpg?type=m99_141_2\",\"울지마 톤즈\",\n",
      "\"movie.naver.com/movie/bi/mi/basic.nhn?code=164192\",\"https://movie-phinf.pstatic.net/20181105_232/1541392865465aVb5V_JPEG/movie_image.jpg?type=m99_141_2\",\"국가부도의 날\",\n",
      "\"movie.naver.com/movie/bi/mi/basic.nhn?code=152156\",\"https://movie-phinf.pstatic.net/20181005_242/1538714564568GYBzR_JPEG/movie_image.jpg?type=m99_141_2\",\"원더풀 고스트\",\n",
      "\"movie.naver.com/movie/bi/mi/basic.nhn?code=155123\",\"https://movie-phinf.pstatic.net/20161103_256/1478160313724rHuDS_JPEG/movie_image.jpg?type=m99_141_2\",\"미스 사이공: 25주년 특별 공연\",\n"
     ]
    }
   ],
   "source": [
    "from urllib.request import Request, urlopen\n",
    "from bs4 import BeautifulSoup\n",
    "\n",
    "req = Request('https://movie.naver.com/movie/running/current.nhn?view=list&tab=normal&order=likeCount')\n",
    "res = urlopen(req)\n",
    "html = res.read().decode('utf-8')\n",
    "\n",
    "bs = BeautifulSoup(html, 'html.parser')\n",
    "tags = bs.find('ul', attrs={'class':'lst_detail_t1'})\n",
    "tags = tags.findAll('li')\n",
    "i =0\n",
    "for tag in tags:\n",
    "    if i == 15:\n",
    "        break;\n",
    "    i=i+1\n",
    "    b= tag.find('div',attrs={'class':'thumb'})\n",
    "    c= tag.find('dt',attrs={'class':'tit'})\n",
    "    print('\"'+\"movie.naver.com\"+b.find('a').attrs['href']+'\"'+','+'\"'+b.find('img').attrs['src']+'\"'+','+'\"'+str(c.find('a')).split('>')[1][:-3]+'\"'+',')\n",
    "\n",
    "  #  b= tag.find('div',attrs={'class':'thumb'})\n",
    "    \n",
    "   # print(b.find('a').attrs['href'])\n",
    "   \n",
    "    #print('\"'+tag.find('a').attrs['href']+'\"'+','+'\"'+ tag.find('img').attrs['src']+'\"'+','+'\"'+str(tag.findAll('a')[1]).split('>')[1][:-4]+'\"')\n",
    "    #print(tag.find('img').attrs['src'])\n",
    "    #print(str(tag.findAll('a')[1]).split('>')[1][:-4])\n",
    "    \n",
    "    \n",
    "    #print(str())\n",
    "    #b = tag.find('div', attrs={'class':'img'})\n",
    "    #print(b.find('a').attrs['href'])\n",
    "    #print(b.find('img').attrs['src'])\n",
    "    #b = tag.find('div', attrs={'class':'txt_wrap'})\n",
    "    #print(str(b.find('span', attrs={'class':'txt_dot1'}))[23:-7])\n",
    "    #b = tag.find('div', attrs={'class':'txt_wrap'})\n",
    "    #print(str(b.find('span', attrs={'class':'txt_dot2'}))[37:-7])\n",
    "    #print('\\n\\n\\n')"
   ]
  },
  {
   "cell_type": "code",
   "execution_count": null,
   "metadata": {},
   "outputs": [],
   "source": []
  },
  {
   "cell_type": "code",
   "execution_count": null,
   "metadata": {},
   "outputs": [],
   "source": []
  }
 ],
 "metadata": {
  "kernelspec": {
   "display_name": "Python 3",
   "language": "python",
   "name": "python3"
  },
  "language_info": {
   "codemirror_mode": {
    "name": "ipython",
    "version": 3
   },
   "file_extension": ".py",
   "mimetype": "text/x-python",
   "name": "python",
   "nbconvert_exporter": "python",
   "pygments_lexer": "ipython3",
   "version": "3.7.1"
  }
 },
 "nbformat": 4,
 "nbformat_minor": 2
}
